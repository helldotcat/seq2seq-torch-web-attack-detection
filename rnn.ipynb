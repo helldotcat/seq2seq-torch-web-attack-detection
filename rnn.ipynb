{
  "cells": [
    {
      "cell_type": "code",
      "execution_count": 1,
      "id": "372bef54",
      "metadata": {
        "id": "372bef54"
      },
      "outputs": [],
      "source": [
        "import pandas as pd\n",
        "import sklearn as sk\n",
        "import numpy as np\n",
        "\n",
        "import seaborn as sns\n",
        "import matplotlib.pyplot as plt\n",
        "\n",
        "import torch"
      ]
    },
    {
      "cell_type": "code",
      "execution_count": 2,
      "id": "1463b372",
      "metadata": {
        "colab": {
          "base_uri": "https://localhost:8080/"
        },
        "id": "1463b372",
        "outputId": "559ddf9e-6461-4eea-8f14-b07f6407ace6"
      },
      "outputs": [
        {
          "data": {
            "text/plain": [
              "device(type='cuda')"
            ]
          },
          "execution_count": 2,
          "metadata": {},
          "output_type": "execute_result"
        }
      ],
      "source": [
        "device = torch.device('cuda' if torch.cuda.is_available() else 'cpu')\n",
        "device"
      ]
    },
    {
      "cell_type": "code",
      "execution_count": 3,
      "id": "a1c514c2",
      "metadata": {
        "id": "a1c514c2"
      },
      "outputs": [],
      "source": [
        "%load_ext autoreload\n",
        "%autoreload 2"
      ]
    },
    {
      "cell_type": "markdown",
      "id": "9251372f",
      "metadata": {
        "id": "9251372f"
      },
      "source": [
        "# Load data"
      ]
    },
    {
      "cell_type": "code",
      "execution_count": 4,
      "id": "bbee0df2",
      "metadata": {
        "colab": {
          "base_uri": "https://localhost:8080/",
          "height": 419
        },
        "id": "bbee0df2",
        "outputId": "9a8ca034-039c-4986-9c70-45e213da906a",
        "scrolled": true
      },
      "outputs": [
        {
          "data": {
            "text/html": [
              "\n",
              "  <div id=\"df-cfe7dae0-9e71-46c6-a0b8-458a9f28b229\">\n",
              "    <div class=\"colab-df-container\">\n",
              "      <div>\n",
              "<style scoped>\n",
              "    .dataframe tbody tr th:only-of-type {\n",
              "        vertical-align: middle;\n",
              "    }\n",
              "\n",
              "    .dataframe tbody tr th {\n",
              "        vertical-align: top;\n",
              "    }\n",
              "\n",
              "    .dataframe thead th {\n",
              "        text-align: right;\n",
              "    }\n",
              "</style>\n",
              "<table border=\"1\" class=\"dataframe\">\n",
              "  <thead>\n",
              "    <tr style=\"text-align: right;\">\n",
              "      <th></th>\n",
              "      <th>request</th>\n",
              "    </tr>\n",
              "  </thead>\n",
              "  <tbody>\n",
              "    <tr>\n",
              "      <th>0</th>\n",
              "      <td>GET /vulnbank/index.html HTTP/1.1\\nHost: 10.0....</td>\n",
              "    </tr>\n",
              "    <tr>\n",
              "      <th>1</th>\n",
              "      <td>GET /vulnbank/index.html HTTP/1.1\\nHost: 10.0....</td>\n",
              "    </tr>\n",
              "    <tr>\n",
              "      <th>2</th>\n",
              "      <td>GET /vulnbank/online/login.php HTTP/1.1\\nHost:...</td>\n",
              "    </tr>\n",
              "    <tr>\n",
              "      <th>3</th>\n",
              "      <td>GET / HTTP/1.1\\nHost: 10.0.212.25\\nConnection:...</td>\n",
              "    </tr>\n",
              "    <tr>\n",
              "      <th>4</th>\n",
              "      <td>GET /vulnbank/index.html HTTP/1.1\\nHost: 10.0....</td>\n",
              "    </tr>\n",
              "    <tr>\n",
              "      <th>...</th>\n",
              "      <td>...</td>\n",
              "    </tr>\n",
              "    <tr>\n",
              "      <th>21986</th>\n",
              "      <td>GET /vulnbank/online/logout.php HTTP/1.1\\nAcce...</td>\n",
              "    </tr>\n",
              "    <tr>\n",
              "      <th>21987</th>\n",
              "      <td>GET /vulnbank/online/logout.php HTTP/1.1\\nAcce...</td>\n",
              "    </tr>\n",
              "    <tr>\n",
              "      <th>21988</th>\n",
              "      <td>GET /vulnbank/online/logout.php HTTP/1.1\\nAcce...</td>\n",
              "    </tr>\n",
              "    <tr>\n",
              "      <th>21989</th>\n",
              "      <td>GET /vulnbank/online/logout.php HTTP/1.1\\nAcce...</td>\n",
              "    </tr>\n",
              "    <tr>\n",
              "      <th>21990</th>\n",
              "      <td>GET /vulnbank/online/logout.php HTTP/1.1\\nAcce...</td>\n",
              "    </tr>\n",
              "  </tbody>\n",
              "</table>\n",
              "<p>21991 rows × 1 columns</p>\n",
              "</div>\n",
              "      <button class=\"colab-df-convert\" onclick=\"convertToInteractive('df-cfe7dae0-9e71-46c6-a0b8-458a9f28b229')\"\n",
              "              title=\"Convert this dataframe to an interactive table.\"\n",
              "              style=\"display:none;\">\n",
              "        \n",
              "  <svg xmlns=\"http://www.w3.org/2000/svg\" height=\"24px\"viewBox=\"0 0 24 24\"\n",
              "       width=\"24px\">\n",
              "    <path d=\"M0 0h24v24H0V0z\" fill=\"none\"/>\n",
              "    <path d=\"M18.56 5.44l.94 2.06.94-2.06 2.06-.94-2.06-.94-.94-2.06-.94 2.06-2.06.94zm-11 1L8.5 8.5l.94-2.06 2.06-.94-2.06-.94L8.5 2.5l-.94 2.06-2.06.94zm10 10l.94 2.06.94-2.06 2.06-.94-2.06-.94-.94-2.06-.94 2.06-2.06.94z\"/><path d=\"M17.41 7.96l-1.37-1.37c-.4-.4-.92-.59-1.43-.59-.52 0-1.04.2-1.43.59L10.3 9.45l-7.72 7.72c-.78.78-.78 2.05 0 2.83L4 21.41c.39.39.9.59 1.41.59.51 0 1.02-.2 1.41-.59l7.78-7.78 2.81-2.81c.8-.78.8-2.07 0-2.86zM5.41 20L4 18.59l7.72-7.72 1.47 1.35L5.41 20z\"/>\n",
              "  </svg>\n",
              "      </button>\n",
              "      \n",
              "  <style>\n",
              "    .colab-df-container {\n",
              "      display:flex;\n",
              "      flex-wrap:wrap;\n",
              "      gap: 12px;\n",
              "    }\n",
              "\n",
              "    .colab-df-convert {\n",
              "      background-color: #E8F0FE;\n",
              "      border: none;\n",
              "      border-radius: 50%;\n",
              "      cursor: pointer;\n",
              "      display: none;\n",
              "      fill: #1967D2;\n",
              "      height: 32px;\n",
              "      padding: 0 0 0 0;\n",
              "      width: 32px;\n",
              "    }\n",
              "\n",
              "    .colab-df-convert:hover {\n",
              "      background-color: #E2EBFA;\n",
              "      box-shadow: 0px 1px 2px rgba(60, 64, 67, 0.3), 0px 1px 3px 1px rgba(60, 64, 67, 0.15);\n",
              "      fill: #174EA6;\n",
              "    }\n",
              "\n",
              "    [theme=dark] .colab-df-convert {\n",
              "      background-color: #3B4455;\n",
              "      fill: #D2E3FC;\n",
              "    }\n",
              "\n",
              "    [theme=dark] .colab-df-convert:hover {\n",
              "      background-color: #434B5C;\n",
              "      box-shadow: 0px 1px 3px 1px rgba(0, 0, 0, 0.15);\n",
              "      filter: drop-shadow(0px 1px 2px rgba(0, 0, 0, 0.3));\n",
              "      fill: #FFFFFF;\n",
              "    }\n",
              "  </style>\n",
              "\n",
              "      <script>\n",
              "        const buttonEl =\n",
              "          document.querySelector('#df-cfe7dae0-9e71-46c6-a0b8-458a9f28b229 button.colab-df-convert');\n",
              "        buttonEl.style.display =\n",
              "          google.colab.kernel.accessAllowed ? 'block' : 'none';\n",
              "\n",
              "        async function convertToInteractive(key) {\n",
              "          const element = document.querySelector('#df-cfe7dae0-9e71-46c6-a0b8-458a9f28b229');\n",
              "          const dataTable =\n",
              "            await google.colab.kernel.invokeFunction('convertToInteractive',\n",
              "                                                     [key], {});\n",
              "          if (!dataTable) return;\n",
              "\n",
              "          const docLinkHtml = 'Like what you see? Visit the ' +\n",
              "            '<a target=\"_blank\" href=https://colab.research.google.com/notebooks/data_table.ipynb>data table notebook</a>'\n",
              "            + ' to learn more about interactive tables.';\n",
              "          element.innerHTML = '';\n",
              "          dataTable['output_type'] = 'display_data';\n",
              "          await google.colab.output.renderOutput(dataTable, element);\n",
              "          const docLink = document.createElement('div');\n",
              "          docLink.innerHTML = docLinkHtml;\n",
              "          element.appendChild(docLink);\n",
              "        }\n",
              "      </script>\n",
              "    </div>\n",
              "  </div>\n",
              "  "
            ],
            "text/plain": [
              "                                                 request\n",
              "0      GET /vulnbank/index.html HTTP/1.1\\nHost: 10.0....\n",
              "1      GET /vulnbank/index.html HTTP/1.1\\nHost: 10.0....\n",
              "2      GET /vulnbank/online/login.php HTTP/1.1\\nHost:...\n",
              "3      GET / HTTP/1.1\\nHost: 10.0.212.25\\nConnection:...\n",
              "4      GET /vulnbank/index.html HTTP/1.1\\nHost: 10.0....\n",
              "...                                                  ...\n",
              "21986  GET /vulnbank/online/logout.php HTTP/1.1\\nAcce...\n",
              "21987  GET /vulnbank/online/logout.php HTTP/1.1\\nAcce...\n",
              "21988  GET /vulnbank/online/logout.php HTTP/1.1\\nAcce...\n",
              "21989  GET /vulnbank/online/logout.php HTTP/1.1\\nAcce...\n",
              "21990  GET /vulnbank/online/logout.php HTTP/1.1\\nAcce...\n",
              "\n",
              "[21991 rows x 1 columns]"
            ]
          },
          "execution_count": 4,
          "metadata": {},
          "output_type": "execute_result"
        }
      ],
      "source": [
        "import re\n",
        "\n",
        "\n",
        "HTTP_RE = re.compile(r\"ST@RT.+?INFO\\s+(.+?)\\s+END\", re.MULTILINE | re.DOTALL)\n",
        "    \n",
        "    \n",
        "def get_dataset(filename):\n",
        "    with open(filename, 'r') as f:\n",
        "        all_requests = HTTP_RE.findall(f.read())\n",
        "    \n",
        "    return pd.DataFrame({'request': all_requests})\n",
        "    \n",
        "    \n",
        "    \n",
        "train_df = get_dataset('data/vulnbank_train.txt')\n",
        "train_df"
      ]
    },
    {
      "cell_type": "code",
      "execution_count": 5,
      "id": "4ce6ee4b",
      "metadata": {
        "colab": {
          "base_uri": "https://localhost:8080/",
          "height": 419
        },
        "id": "4ce6ee4b",
        "outputId": "d1d7ca17-1626-4e76-972e-82b2efb42324"
      },
      "outputs": [
        {
          "data": {
            "text/html": [
              "\n",
              "  <div id=\"df-6965fa1e-8444-4260-8c78-c8b181081ef3\">\n",
              "    <div class=\"colab-df-container\">\n",
              "      <div>\n",
              "<style scoped>\n",
              "    .dataframe tbody tr th:only-of-type {\n",
              "        vertical-align: middle;\n",
              "    }\n",
              "\n",
              "    .dataframe tbody tr th {\n",
              "        vertical-align: top;\n",
              "    }\n",
              "\n",
              "    .dataframe thead th {\n",
              "        text-align: right;\n",
              "    }\n",
              "</style>\n",
              "<table border=\"1\" class=\"dataframe\">\n",
              "  <thead>\n",
              "    <tr style=\"text-align: right;\">\n",
              "      <th></th>\n",
              "      <th>request</th>\n",
              "    </tr>\n",
              "  </thead>\n",
              "  <tbody>\n",
              "    <tr>\n",
              "      <th>0</th>\n",
              "      <td>POST /vulnbank/online/api.php HTTP/1.1\\nHost: ...</td>\n",
              "    </tr>\n",
              "    <tr>\n",
              "      <th>1</th>\n",
              "      <td>POST /vulnbank/online/api.php HTTP/1.1\\nHost: ...</td>\n",
              "    </tr>\n",
              "    <tr>\n",
              "      <th>2</th>\n",
              "      <td>POST /vulnbank/online/api.php HTTP/1.1\\nHost: ...</td>\n",
              "    </tr>\n",
              "    <tr>\n",
              "      <th>3</th>\n",
              "      <td>POST /vulnbank/onlinebank/api.php?xml HTTP/1.1...</td>\n",
              "    </tr>\n",
              "    <tr>\n",
              "      <th>4</th>\n",
              "      <td>POST /vulnbank/online/api.php HTTP/1.1\\nHost: ...</td>\n",
              "    </tr>\n",
              "    <tr>\n",
              "      <th>...</th>\n",
              "      <td>...</td>\n",
              "    </tr>\n",
              "    <tr>\n",
              "      <th>1092</th>\n",
              "      <td>POST /vulnbank/online/api.php HTTP/1.1\\nHost: ...</td>\n",
              "    </tr>\n",
              "    <tr>\n",
              "      <th>1093</th>\n",
              "      <td>POST /vulnbank/online/api.php HTTP/1.1\\nHost: ...</td>\n",
              "    </tr>\n",
              "    <tr>\n",
              "      <th>1094</th>\n",
              "      <td>POST /vulnbank/online/ftcrats7kdsrglb4tdg1hn03...</td>\n",
              "    </tr>\n",
              "    <tr>\n",
              "      <th>1095</th>\n",
              "      <td>POST /vulnbank/online/'%22%3e%3csvg/onload%3d(...</td>\n",
              "    </tr>\n",
              "    <tr>\n",
              "      <th>1096</th>\n",
              "      <td>POST /vulnbank/online/javascript%3a/*%3c/scrip...</td>\n",
              "    </tr>\n",
              "  </tbody>\n",
              "</table>\n",
              "<p>1097 rows × 1 columns</p>\n",
              "</div>\n",
              "      <button class=\"colab-df-convert\" onclick=\"convertToInteractive('df-6965fa1e-8444-4260-8c78-c8b181081ef3')\"\n",
              "              title=\"Convert this dataframe to an interactive table.\"\n",
              "              style=\"display:none;\">\n",
              "        \n",
              "  <svg xmlns=\"http://www.w3.org/2000/svg\" height=\"24px\"viewBox=\"0 0 24 24\"\n",
              "       width=\"24px\">\n",
              "    <path d=\"M0 0h24v24H0V0z\" fill=\"none\"/>\n",
              "    <path d=\"M18.56 5.44l.94 2.06.94-2.06 2.06-.94-2.06-.94-.94-2.06-.94 2.06-2.06.94zm-11 1L8.5 8.5l.94-2.06 2.06-.94-2.06-.94L8.5 2.5l-.94 2.06-2.06.94zm10 10l.94 2.06.94-2.06 2.06-.94-2.06-.94-.94-2.06-.94 2.06-2.06.94z\"/><path d=\"M17.41 7.96l-1.37-1.37c-.4-.4-.92-.59-1.43-.59-.52 0-1.04.2-1.43.59L10.3 9.45l-7.72 7.72c-.78.78-.78 2.05 0 2.83L4 21.41c.39.39.9.59 1.41.59.51 0 1.02-.2 1.41-.59l7.78-7.78 2.81-2.81c.8-.78.8-2.07 0-2.86zM5.41 20L4 18.59l7.72-7.72 1.47 1.35L5.41 20z\"/>\n",
              "  </svg>\n",
              "      </button>\n",
              "      \n",
              "  <style>\n",
              "    .colab-df-container {\n",
              "      display:flex;\n",
              "      flex-wrap:wrap;\n",
              "      gap: 12px;\n",
              "    }\n",
              "\n",
              "    .colab-df-convert {\n",
              "      background-color: #E8F0FE;\n",
              "      border: none;\n",
              "      border-radius: 50%;\n",
              "      cursor: pointer;\n",
              "      display: none;\n",
              "      fill: #1967D2;\n",
              "      height: 32px;\n",
              "      padding: 0 0 0 0;\n",
              "      width: 32px;\n",
              "    }\n",
              "\n",
              "    .colab-df-convert:hover {\n",
              "      background-color: #E2EBFA;\n",
              "      box-shadow: 0px 1px 2px rgba(60, 64, 67, 0.3), 0px 1px 3px 1px rgba(60, 64, 67, 0.15);\n",
              "      fill: #174EA6;\n",
              "    }\n",
              "\n",
              "    [theme=dark] .colab-df-convert {\n",
              "      background-color: #3B4455;\n",
              "      fill: #D2E3FC;\n",
              "    }\n",
              "\n",
              "    [theme=dark] .colab-df-convert:hover {\n",
              "      background-color: #434B5C;\n",
              "      box-shadow: 0px 1px 3px 1px rgba(0, 0, 0, 0.15);\n",
              "      filter: drop-shadow(0px 1px 2px rgba(0, 0, 0, 0.3));\n",
              "      fill: #FFFFFF;\n",
              "    }\n",
              "  </style>\n",
              "\n",
              "      <script>\n",
              "        const buttonEl =\n",
              "          document.querySelector('#df-6965fa1e-8444-4260-8c78-c8b181081ef3 button.colab-df-convert');\n",
              "        buttonEl.style.display =\n",
              "          google.colab.kernel.accessAllowed ? 'block' : 'none';\n",
              "\n",
              "        async function convertToInteractive(key) {\n",
              "          const element = document.querySelector('#df-6965fa1e-8444-4260-8c78-c8b181081ef3');\n",
              "          const dataTable =\n",
              "            await google.colab.kernel.invokeFunction('convertToInteractive',\n",
              "                                                     [key], {});\n",
              "          if (!dataTable) return;\n",
              "\n",
              "          const docLinkHtml = 'Like what you see? Visit the ' +\n",
              "            '<a target=\"_blank\" href=https://colab.research.google.com/notebooks/data_table.ipynb>data table notebook</a>'\n",
              "            + ' to learn more about interactive tables.';\n",
              "          element.innerHTML = '';\n",
              "          dataTable['output_type'] = 'display_data';\n",
              "          await google.colab.output.renderOutput(dataTable, element);\n",
              "          const docLink = document.createElement('div');\n",
              "          docLink.innerHTML = docLinkHtml;\n",
              "          element.appendChild(docLink);\n",
              "        }\n",
              "      </script>\n",
              "    </div>\n",
              "  </div>\n",
              "  "
            ],
            "text/plain": [
              "                                                request\n",
              "0     POST /vulnbank/online/api.php HTTP/1.1\\nHost: ...\n",
              "1     POST /vulnbank/online/api.php HTTP/1.1\\nHost: ...\n",
              "2     POST /vulnbank/online/api.php HTTP/1.1\\nHost: ...\n",
              "3     POST /vulnbank/onlinebank/api.php?xml HTTP/1.1...\n",
              "4     POST /vulnbank/online/api.php HTTP/1.1\\nHost: ...\n",
              "...                                                 ...\n",
              "1092  POST /vulnbank/online/api.php HTTP/1.1\\nHost: ...\n",
              "1093  POST /vulnbank/online/api.php HTTP/1.1\\nHost: ...\n",
              "1094  POST /vulnbank/online/ftcrats7kdsrglb4tdg1hn03...\n",
              "1095  POST /vulnbank/online/'%22%3e%3csvg/onload%3d(...\n",
              "1096  POST /vulnbank/online/javascript%3a/*%3c/scrip...\n",
              "\n",
              "[1097 rows x 1 columns]"
            ]
          },
          "execution_count": 5,
          "metadata": {},
          "output_type": "execute_result"
        }
      ],
      "source": [
        "anomaly_df = get_dataset('data/vulnbank_anomaly.txt')\n",
        "anomaly_df"
      ]
    },
    {
      "cell_type": "code",
      "execution_count": 6,
      "id": "c8dbeefa",
      "metadata": {
        "colab": {
          "base_uri": "https://localhost:8080/"
        },
        "id": "c8dbeefa",
        "outputId": "2cb0a970-efc4-4b3b-e4fd-ebd5ac3c0439",
        "scrolled": true
      },
      "outputs": [
        {
          "data": {
            "text/plain": [
              "(15832, 2200, 3959)"
            ]
          },
          "execution_count": 6,
          "metadata": {},
          "output_type": "execute_result"
        }
      ],
      "source": [
        "from sklearn.model_selection import train_test_split\n",
        "\n",
        "X_train, X_test = train_test_split(train_df, test_size=0.1, random_state=42)\n",
        "X_train, X_val = train_test_split(X_train, test_size=0.2, random_state=42)\n",
        "    \n",
        "\n",
        "len(X_train), len(X_test), len(X_val)"
      ]
    },
    {
      "cell_type": "code",
      "execution_count": 7,
      "id": "5ab6faa9",
      "metadata": {
        "colab": {
          "base_uri": "https://localhost:8080/",
          "height": 419
        },
        "id": "5ab6faa9",
        "outputId": "906f621e-29c2-4920-a49e-fd45333e9ff4"
      },
      "outputs": [
        {
          "data": {
            "text/html": [
              "\n",
              "  <div id=\"df-b0c3d9f7-9da2-4334-8dcd-8d324d44a9a5\">\n",
              "    <div class=\"colab-df-container\">\n",
              "      <div>\n",
              "<style scoped>\n",
              "    .dataframe tbody tr th:only-of-type {\n",
              "        vertical-align: middle;\n",
              "    }\n",
              "\n",
              "    .dataframe tbody tr th {\n",
              "        vertical-align: top;\n",
              "    }\n",
              "\n",
              "    .dataframe thead th {\n",
              "        text-align: right;\n",
              "    }\n",
              "</style>\n",
              "<table border=\"1\" class=\"dataframe\">\n",
              "  <thead>\n",
              "    <tr style=\"text-align: right;\">\n",
              "      <th></th>\n",
              "      <th>request</th>\n",
              "    </tr>\n",
              "  </thead>\n",
              "  <tbody>\n",
              "    <tr>\n",
              "      <th>10137</th>\n",
              "      <td>POST /vulnbank/online/api.php HTTP/1.1\\nHost: ...</td>\n",
              "    </tr>\n",
              "    <tr>\n",
              "      <th>18739</th>\n",
              "      <td>GET /vulnbank/online/history.php HTTP/1.1\\nAcc...</td>\n",
              "    </tr>\n",
              "    <tr>\n",
              "      <th>4589</th>\n",
              "      <td>POST /vulnbank/online/api.php HTTP/1.1\\nHost: ...</td>\n",
              "    </tr>\n",
              "    <tr>\n",
              "      <th>2782</th>\n",
              "      <td>POST /vulnbank/online/api.php HTTP/1.1\\nHost: ...</td>\n",
              "    </tr>\n",
              "    <tr>\n",
              "      <th>18837</th>\n",
              "      <td>GET /vulnbank/online/history.php HTTP/1.1\\nAcc...</td>\n",
              "    </tr>\n",
              "    <tr>\n",
              "      <th>...</th>\n",
              "      <td>...</td>\n",
              "    </tr>\n",
              "    <tr>\n",
              "      <th>8593</th>\n",
              "      <td>POST /vulnbank/online/api.php HTTP/1.1\\nHost: ...</td>\n",
              "    </tr>\n",
              "    <tr>\n",
              "      <th>21046</th>\n",
              "      <td>GET /vulnbank/online/userinfo.php HTTP/1.1\\nAc...</td>\n",
              "    </tr>\n",
              "    <tr>\n",
              "      <th>5805</th>\n",
              "      <td>POST /vulnbank/online/api.php HTTP/1.1\\nHost: ...</td>\n",
              "    </tr>\n",
              "    <tr>\n",
              "      <th>19680</th>\n",
              "      <td>GET /vulnbank/online/transactions.php HTTP/1.0...</td>\n",
              "    </tr>\n",
              "    <tr>\n",
              "      <th>21686</th>\n",
              "      <td>GET /vulnbank/online/logout.php HTTP/1.1\\nAcce...</td>\n",
              "    </tr>\n",
              "  </tbody>\n",
              "</table>\n",
              "<p>15832 rows × 1 columns</p>\n",
              "</div>\n",
              "      <button class=\"colab-df-convert\" onclick=\"convertToInteractive('df-b0c3d9f7-9da2-4334-8dcd-8d324d44a9a5')\"\n",
              "              title=\"Convert this dataframe to an interactive table.\"\n",
              "              style=\"display:none;\">\n",
              "        \n",
              "  <svg xmlns=\"http://www.w3.org/2000/svg\" height=\"24px\"viewBox=\"0 0 24 24\"\n",
              "       width=\"24px\">\n",
              "    <path d=\"M0 0h24v24H0V0z\" fill=\"none\"/>\n",
              "    <path d=\"M18.56 5.44l.94 2.06.94-2.06 2.06-.94-2.06-.94-.94-2.06-.94 2.06-2.06.94zm-11 1L8.5 8.5l.94-2.06 2.06-.94-2.06-.94L8.5 2.5l-.94 2.06-2.06.94zm10 10l.94 2.06.94-2.06 2.06-.94-2.06-.94-.94-2.06-.94 2.06-2.06.94z\"/><path d=\"M17.41 7.96l-1.37-1.37c-.4-.4-.92-.59-1.43-.59-.52 0-1.04.2-1.43.59L10.3 9.45l-7.72 7.72c-.78.78-.78 2.05 0 2.83L4 21.41c.39.39.9.59 1.41.59.51 0 1.02-.2 1.41-.59l7.78-7.78 2.81-2.81c.8-.78.8-2.07 0-2.86zM5.41 20L4 18.59l7.72-7.72 1.47 1.35L5.41 20z\"/>\n",
              "  </svg>\n",
              "      </button>\n",
              "      \n",
              "  <style>\n",
              "    .colab-df-container {\n",
              "      display:flex;\n",
              "      flex-wrap:wrap;\n",
              "      gap: 12px;\n",
              "    }\n",
              "\n",
              "    .colab-df-convert {\n",
              "      background-color: #E8F0FE;\n",
              "      border: none;\n",
              "      border-radius: 50%;\n",
              "      cursor: pointer;\n",
              "      display: none;\n",
              "      fill: #1967D2;\n",
              "      height: 32px;\n",
              "      padding: 0 0 0 0;\n",
              "      width: 32px;\n",
              "    }\n",
              "\n",
              "    .colab-df-convert:hover {\n",
              "      background-color: #E2EBFA;\n",
              "      box-shadow: 0px 1px 2px rgba(60, 64, 67, 0.3), 0px 1px 3px 1px rgba(60, 64, 67, 0.15);\n",
              "      fill: #174EA6;\n",
              "    }\n",
              "\n",
              "    [theme=dark] .colab-df-convert {\n",
              "      background-color: #3B4455;\n",
              "      fill: #D2E3FC;\n",
              "    }\n",
              "\n",
              "    [theme=dark] .colab-df-convert:hover {\n",
              "      background-color: #434B5C;\n",
              "      box-shadow: 0px 1px 3px 1px rgba(0, 0, 0, 0.15);\n",
              "      filter: drop-shadow(0px 1px 2px rgba(0, 0, 0, 0.3));\n",
              "      fill: #FFFFFF;\n",
              "    }\n",
              "  </style>\n",
              "\n",
              "      <script>\n",
              "        const buttonEl =\n",
              "          document.querySelector('#df-b0c3d9f7-9da2-4334-8dcd-8d324d44a9a5 button.colab-df-convert');\n",
              "        buttonEl.style.display =\n",
              "          google.colab.kernel.accessAllowed ? 'block' : 'none';\n",
              "\n",
              "        async function convertToInteractive(key) {\n",
              "          const element = document.querySelector('#df-b0c3d9f7-9da2-4334-8dcd-8d324d44a9a5');\n",
              "          const dataTable =\n",
              "            await google.colab.kernel.invokeFunction('convertToInteractive',\n",
              "                                                     [key], {});\n",
              "          if (!dataTable) return;\n",
              "\n",
              "          const docLinkHtml = 'Like what you see? Visit the ' +\n",
              "            '<a target=\"_blank\" href=https://colab.research.google.com/notebooks/data_table.ipynb>data table notebook</a>'\n",
              "            + ' to learn more about interactive tables.';\n",
              "          element.innerHTML = '';\n",
              "          dataTable['output_type'] = 'display_data';\n",
              "          await google.colab.output.renderOutput(dataTable, element);\n",
              "          const docLink = document.createElement('div');\n",
              "          docLink.innerHTML = docLinkHtml;\n",
              "          element.appendChild(docLink);\n",
              "        }\n",
              "      </script>\n",
              "    </div>\n",
              "  </div>\n",
              "  "
            ],
            "text/plain": [
              "                                                 request\n",
              "10137  POST /vulnbank/online/api.php HTTP/1.1\\nHost: ...\n",
              "18739  GET /vulnbank/online/history.php HTTP/1.1\\nAcc...\n",
              "4589   POST /vulnbank/online/api.php HTTP/1.1\\nHost: ...\n",
              "2782   POST /vulnbank/online/api.php HTTP/1.1\\nHost: ...\n",
              "18837  GET /vulnbank/online/history.php HTTP/1.1\\nAcc...\n",
              "...                                                  ...\n",
              "8593   POST /vulnbank/online/api.php HTTP/1.1\\nHost: ...\n",
              "21046  GET /vulnbank/online/userinfo.php HTTP/1.1\\nAc...\n",
              "5805   POST /vulnbank/online/api.php HTTP/1.1\\nHost: ...\n",
              "19680  GET /vulnbank/online/transactions.php HTTP/1.0...\n",
              "21686  GET /vulnbank/online/logout.php HTTP/1.1\\nAcce...\n",
              "\n",
              "[15832 rows x 1 columns]"
            ]
          },
          "execution_count": 7,
          "metadata": {},
          "output_type": "execute_result"
        }
      ],
      "source": [
        "X_train"
      ]
    },
    {
      "cell_type": "code",
      "execution_count": 8,
      "id": "aca0600c",
      "metadata": {
        "colab": {
          "base_uri": "https://localhost:8080/",
          "height": 419
        },
        "id": "aca0600c",
        "outputId": "82e8f82d-5ab4-49af-feaa-7408fba6e473",
        "scrolled": true
      },
      "outputs": [
        {
          "data": {
            "text/html": [
              "\n",
              "  <div id=\"df-6750e311-d76c-4bd7-8dc3-13154abcb1c7\">\n",
              "    <div class=\"colab-df-container\">\n",
              "      <div>\n",
              "<style scoped>\n",
              "    .dataframe tbody tr th:only-of-type {\n",
              "        vertical-align: middle;\n",
              "    }\n",
              "\n",
              "    .dataframe tbody tr th {\n",
              "        vertical-align: top;\n",
              "    }\n",
              "\n",
              "    .dataframe thead th {\n",
              "        text-align: right;\n",
              "    }\n",
              "</style>\n",
              "<table border=\"1\" class=\"dataframe\">\n",
              "  <thead>\n",
              "    <tr style=\"text-align: right;\">\n",
              "      <th></th>\n",
              "      <th>request</th>\n",
              "    </tr>\n",
              "  </thead>\n",
              "  <tbody>\n",
              "    <tr>\n",
              "      <th>21120</th>\n",
              "      <td>GET /vulnbank/online/userinfo.php HTTP/1.1\\nAc...</td>\n",
              "    </tr>\n",
              "    <tr>\n",
              "      <th>4291</th>\n",
              "      <td>POST /vulnbank/online/api.php HTTP/1.1\\nHost: ...</td>\n",
              "    </tr>\n",
              "    <tr>\n",
              "      <th>17978</th>\n",
              "      <td>GET /vulnbank/online/userinfo.php HTTP/1.1\\nAc...</td>\n",
              "    </tr>\n",
              "    <tr>\n",
              "      <th>17877</th>\n",
              "      <td>GET /vulnbank/online/portal.php HTTP/1.1\\nAcce...</td>\n",
              "    </tr>\n",
              "    <tr>\n",
              "      <th>16134</th>\n",
              "      <td>POST /vulnbank/online/api.php HTTP/1.1\\nHost: ...</td>\n",
              "    </tr>\n",
              "    <tr>\n",
              "      <th>...</th>\n",
              "      <td>...</td>\n",
              "    </tr>\n",
              "    <tr>\n",
              "      <th>18062</th>\n",
              "      <td>GET /vulnbank/online/logout.php HTTP/1.1\\nAcce...</td>\n",
              "    </tr>\n",
              "    <tr>\n",
              "      <th>8091</th>\n",
              "      <td>POST /vulnbank/online/api.php HTTP/1.1\\nHost: ...</td>\n",
              "    </tr>\n",
              "    <tr>\n",
              "      <th>17647</th>\n",
              "      <td>GET /vulnbank/online/history.php HTTP/1.1\\nAcc...</td>\n",
              "    </tr>\n",
              "    <tr>\n",
              "      <th>7816</th>\n",
              "      <td>POST /vulnbank/online/api.php HTTP/1.1\\nHost: ...</td>\n",
              "    </tr>\n",
              "    <tr>\n",
              "      <th>2781</th>\n",
              "      <td>POST /vulnbank/online/api.php HTTP/1.1\\nHost: ...</td>\n",
              "    </tr>\n",
              "  </tbody>\n",
              "</table>\n",
              "<p>2200 rows × 1 columns</p>\n",
              "</div>\n",
              "      <button class=\"colab-df-convert\" onclick=\"convertToInteractive('df-6750e311-d76c-4bd7-8dc3-13154abcb1c7')\"\n",
              "              title=\"Convert this dataframe to an interactive table.\"\n",
              "              style=\"display:none;\">\n",
              "        \n",
              "  <svg xmlns=\"http://www.w3.org/2000/svg\" height=\"24px\"viewBox=\"0 0 24 24\"\n",
              "       width=\"24px\">\n",
              "    <path d=\"M0 0h24v24H0V0z\" fill=\"none\"/>\n",
              "    <path d=\"M18.56 5.44l.94 2.06.94-2.06 2.06-.94-2.06-.94-.94-2.06-.94 2.06-2.06.94zm-11 1L8.5 8.5l.94-2.06 2.06-.94-2.06-.94L8.5 2.5l-.94 2.06-2.06.94zm10 10l.94 2.06.94-2.06 2.06-.94-2.06-.94-.94-2.06-.94 2.06-2.06.94z\"/><path d=\"M17.41 7.96l-1.37-1.37c-.4-.4-.92-.59-1.43-.59-.52 0-1.04.2-1.43.59L10.3 9.45l-7.72 7.72c-.78.78-.78 2.05 0 2.83L4 21.41c.39.39.9.59 1.41.59.51 0 1.02-.2 1.41-.59l7.78-7.78 2.81-2.81c.8-.78.8-2.07 0-2.86zM5.41 20L4 18.59l7.72-7.72 1.47 1.35L5.41 20z\"/>\n",
              "  </svg>\n",
              "      </button>\n",
              "      \n",
              "  <style>\n",
              "    .colab-df-container {\n",
              "      display:flex;\n",
              "      flex-wrap:wrap;\n",
              "      gap: 12px;\n",
              "    }\n",
              "\n",
              "    .colab-df-convert {\n",
              "      background-color: #E8F0FE;\n",
              "      border: none;\n",
              "      border-radius: 50%;\n",
              "      cursor: pointer;\n",
              "      display: none;\n",
              "      fill: #1967D2;\n",
              "      height: 32px;\n",
              "      padding: 0 0 0 0;\n",
              "      width: 32px;\n",
              "    }\n",
              "\n",
              "    .colab-df-convert:hover {\n",
              "      background-color: #E2EBFA;\n",
              "      box-shadow: 0px 1px 2px rgba(60, 64, 67, 0.3), 0px 1px 3px 1px rgba(60, 64, 67, 0.15);\n",
              "      fill: #174EA6;\n",
              "    }\n",
              "\n",
              "    [theme=dark] .colab-df-convert {\n",
              "      background-color: #3B4455;\n",
              "      fill: #D2E3FC;\n",
              "    }\n",
              "\n",
              "    [theme=dark] .colab-df-convert:hover {\n",
              "      background-color: #434B5C;\n",
              "      box-shadow: 0px 1px 3px 1px rgba(0, 0, 0, 0.15);\n",
              "      filter: drop-shadow(0px 1px 2px rgba(0, 0, 0, 0.3));\n",
              "      fill: #FFFFFF;\n",
              "    }\n",
              "  </style>\n",
              "\n",
              "      <script>\n",
              "        const buttonEl =\n",
              "          document.querySelector('#df-6750e311-d76c-4bd7-8dc3-13154abcb1c7 button.colab-df-convert');\n",
              "        buttonEl.style.display =\n",
              "          google.colab.kernel.accessAllowed ? 'block' : 'none';\n",
              "\n",
              "        async function convertToInteractive(key) {\n",
              "          const element = document.querySelector('#df-6750e311-d76c-4bd7-8dc3-13154abcb1c7');\n",
              "          const dataTable =\n",
              "            await google.colab.kernel.invokeFunction('convertToInteractive',\n",
              "                                                     [key], {});\n",
              "          if (!dataTable) return;\n",
              "\n",
              "          const docLinkHtml = 'Like what you see? Visit the ' +\n",
              "            '<a target=\"_blank\" href=https://colab.research.google.com/notebooks/data_table.ipynb>data table notebook</a>'\n",
              "            + ' to learn more about interactive tables.';\n",
              "          element.innerHTML = '';\n",
              "          dataTable['output_type'] = 'display_data';\n",
              "          await google.colab.output.renderOutput(dataTable, element);\n",
              "          const docLink = document.createElement('div');\n",
              "          docLink.innerHTML = docLinkHtml;\n",
              "          element.appendChild(docLink);\n",
              "        }\n",
              "      </script>\n",
              "    </div>\n",
              "  </div>\n",
              "  "
            ],
            "text/plain": [
              "                                                 request\n",
              "21120  GET /vulnbank/online/userinfo.php HTTP/1.1\\nAc...\n",
              "4291   POST /vulnbank/online/api.php HTTP/1.1\\nHost: ...\n",
              "17978  GET /vulnbank/online/userinfo.php HTTP/1.1\\nAc...\n",
              "17877  GET /vulnbank/online/portal.php HTTP/1.1\\nAcce...\n",
              "16134  POST /vulnbank/online/api.php HTTP/1.1\\nHost: ...\n",
              "...                                                  ...\n",
              "18062  GET /vulnbank/online/logout.php HTTP/1.1\\nAcce...\n",
              "8091   POST /vulnbank/online/api.php HTTP/1.1\\nHost: ...\n",
              "17647  GET /vulnbank/online/history.php HTTP/1.1\\nAcc...\n",
              "7816   POST /vulnbank/online/api.php HTTP/1.1\\nHost: ...\n",
              "2781   POST /vulnbank/online/api.php HTTP/1.1\\nHost: ...\n",
              "\n",
              "[2200 rows x 1 columns]"
            ]
          },
          "execution_count": 8,
          "metadata": {},
          "output_type": "execute_result"
        }
      ],
      "source": [
        "X_test"
      ]
    },
    {
      "cell_type": "code",
      "execution_count": 8,
      "id": "381c5a70",
      "metadata": {
        "id": "381c5a70"
      },
      "outputs": [],
      "source": []
    },
    {
      "cell_type": "code",
      "execution_count": 9,
      "id": "570d5d48",
      "metadata": {
        "colab": {
          "base_uri": "https://localhost:8080/",
          "height": 281
        },
        "id": "570d5d48",
        "outputId": "47e3c92c-0815-44c4-f722-3b6aca3d375e"
      },
      "outputs": [
        {
          "data": {
            "image/png": "[encoded data removed]",
            "text/plain": [
              "<Figure size 432x288 with 1 Axes>"
            ]
          },
          "metadata": {
            "needs_background": "light"
          },
          "output_type": "display_data"
        }
      ],
      "source": [
        "sns.boxplot(x=list(map(len, X_train.request))).set_title('Lengths')\n",
        "\n",
        "plt.show()"
      ]
    },
    {
      "cell_type": "markdown",
      "id": "904b9925",
      "metadata": {
        "id": "904b9925"
      },
      "source": [
        "# Prepare data"
      ]
    },
    {
      "cell_type": "markdown",
      "id": "0fdc9143",
      "metadata": {
        "id": "0fdc9143"
      },
      "source": [
        "Exclude the requests with $length > 1500$ from the train set"
      ]
    },
    {
      "cell_type": "code",
      "execution_count": 10,
      "id": "e313e545",
      "metadata": {
        "colab": {
          "base_uri": "https://localhost:8080/"
        },
        "id": "e313e545",
        "outputId": "edcfd234-cf42-4812-c3cd-7b563283f9ea"
      },
      "outputs": [
        {
          "name": "stdout",
          "output_type": "stream",
          "text": [
            "Ratio of the sample with length > 1500: 0.03922435573521981\n"
          ]
        }
      ],
      "source": [
        "print(\n",
        "    'Ratio of the sample with length > 1500:',\n",
        "    sum([x > 1500 for x in map(len, X_train.request)]) / len(X_train)\n",
        ")"
      ]
    },
    {
      "cell_type": "code",
      "execution_count": 11,
      "id": "9b7668f9",
      "metadata": {
        "colab": {
          "base_uri": "https://localhost:8080/",
          "height": 419
        },
        "id": "9b7668f9",
        "outputId": "ad383000-e2f9-46b6-e061-707fc4e98f4a"
      },
      "outputs": [
        {
          "data": {
            "text/html": [
              "\n",
              "  <div id=\"df-f1bb767a-0844-4813-9179-ee6c4dde4e46\">\n",
              "    <div class=\"colab-df-container\">\n",
              "      <div>\n",
              "<style scoped>\n",
              "    .dataframe tbody tr th:only-of-type {\n",
              "        vertical-align: middle;\n",
              "    }\n",
              "\n",
              "    .dataframe tbody tr th {\n",
              "        vertical-align: top;\n",
              "    }\n",
              "\n",
              "    .dataframe thead th {\n",
              "        text-align: right;\n",
              "    }\n",
              "</style>\n",
              "<table border=\"1\" class=\"dataframe\">\n",
              "  <thead>\n",
              "    <tr style=\"text-align: right;\">\n",
              "      <th></th>\n",
              "      <th>request</th>\n",
              "    </tr>\n",
              "  </thead>\n",
              "  <tbody>\n",
              "    <tr>\n",
              "      <th>10137</th>\n",
              "      <td>POST /vulnbank/online/api.php HTTP/1.1\\nHost: ...</td>\n",
              "    </tr>\n",
              "    <tr>\n",
              "      <th>18739</th>\n",
              "      <td>GET /vulnbank/online/history.php HTTP/1.1\\nAcc...</td>\n",
              "    </tr>\n",
              "    <tr>\n",
              "      <th>2782</th>\n",
              "      <td>POST /vulnbank/online/api.php HTTP/1.1\\nHost: ...</td>\n",
              "    </tr>\n",
              "    <tr>\n",
              "      <th>18837</th>\n",
              "      <td>GET /vulnbank/online/history.php HTTP/1.1\\nAcc...</td>\n",
              "    </tr>\n",
              "    <tr>\n",
              "      <th>16912</th>\n",
              "      <td>GET /vulnbank/online/history.php HTTP/1.1\\nAcc...</td>\n",
              "    </tr>\n",
              "    <tr>\n",
              "      <th>...</th>\n",
              "      <td>...</td>\n",
              "    </tr>\n",
              "    <tr>\n",
              "      <th>8593</th>\n",
              "      <td>POST /vulnbank/online/api.php HTTP/1.1\\nHost: ...</td>\n",
              "    </tr>\n",
              "    <tr>\n",
              "      <th>21046</th>\n",
              "      <td>GET /vulnbank/online/userinfo.php HTTP/1.1\\nAc...</td>\n",
              "    </tr>\n",
              "    <tr>\n",
              "      <th>5805</th>\n",
              "      <td>POST /vulnbank/online/api.php HTTP/1.1\\nHost: ...</td>\n",
              "    </tr>\n",
              "    <tr>\n",
              "      <th>19680</th>\n",
              "      <td>GET /vulnbank/online/transactions.php HTTP/1.0...</td>\n",
              "    </tr>\n",
              "    <tr>\n",
              "      <th>21686</th>\n",
              "      <td>GET /vulnbank/online/logout.php HTTP/1.1\\nAcce...</td>\n",
              "    </tr>\n",
              "  </tbody>\n",
              "</table>\n",
              "<p>15211 rows × 1 columns</p>\n",
              "</div>\n",
              "      <button class=\"colab-df-convert\" onclick=\"convertToInteractive('df-f1bb767a-0844-4813-9179-ee6c4dde4e46')\"\n",
              "              title=\"Convert this dataframe to an interactive table.\"\n",
              "              style=\"display:none;\">\n",
              "        \n",
              "  <svg xmlns=\"http://www.w3.org/2000/svg\" height=\"24px\"viewBox=\"0 0 24 24\"\n",
              "       width=\"24px\">\n",
              "    <path d=\"M0 0h24v24H0V0z\" fill=\"none\"/>\n",
              "    <path d=\"M18.56 5.44l.94 2.06.94-2.06 2.06-.94-2.06-.94-.94-2.06-.94 2.06-2.06.94zm-11 1L8.5 8.5l.94-2.06 2.06-.94-2.06-.94L8.5 2.5l-.94 2.06-2.06.94zm10 10l.94 2.06.94-2.06 2.06-.94-2.06-.94-.94-2.06-.94 2.06-2.06.94z\"/><path d=\"M17.41 7.96l-1.37-1.37c-.4-.4-.92-.59-1.43-.59-.52 0-1.04.2-1.43.59L10.3 9.45l-7.72 7.72c-.78.78-.78 2.05 0 2.83L4 21.41c.39.39.9.59 1.41.59.51 0 1.02-.2 1.41-.59l7.78-7.78 2.81-2.81c.8-.78.8-2.07 0-2.86zM5.41 20L4 18.59l7.72-7.72 1.47 1.35L5.41 20z\"/>\n",
              "  </svg>\n",
              "      </button>\n",
              "      \n",
              "  <style>\n",
              "    .colab-df-container {\n",
              "      display:flex;\n",
              "      flex-wrap:wrap;\n",
              "      gap: 12px;\n",
              "    }\n",
              "\n",
              "    .colab-df-convert {\n",
              "      background-color: #E8F0FE;\n",
              "      border: none;\n",
              "      border-radius: 50%;\n",
              "      cursor: pointer;\n",
              "      display: none;\n",
              "      fill: #1967D2;\n",
              "      height: 32px;\n",
              "      padding: 0 0 0 0;\n",
              "      width: 32px;\n",
              "    }\n",
              "\n",
              "    .colab-df-convert:hover {\n",
              "      background-color: #E2EBFA;\n",
              "      box-shadow: 0px 1px 2px rgba(60, 64, 67, 0.3), 0px 1px 3px 1px rgba(60, 64, 67, 0.15);\n",
              "      fill: #174EA6;\n",
              "    }\n",
              "\n",
              "    [theme=dark] .colab-df-convert {\n",
              "      background-color: #3B4455;\n",
              "      fill: #D2E3FC;\n",
              "    }\n",
              "\n",
              "    [theme=dark] .colab-df-convert:hover {\n",
              "      background-color: #434B5C;\n",
              "      box-shadow: 0px 1px 3px 1px rgba(0, 0, 0, 0.15);\n",
              "      filter: drop-shadow(0px 1px 2px rgba(0, 0, 0, 0.3));\n",
              "      fill: #FFFFFF;\n",
              "    }\n",
              "  </style>\n",
              "\n",
              "      <script>\n",
              "        const buttonEl =\n",
              "          document.querySelector('#df-f1bb767a-0844-4813-9179-ee6c4dde4e46 button.colab-df-convert');\n",
              "        buttonEl.style.display =\n",
              "          google.colab.kernel.accessAllowed ? 'block' : 'none';\n",
              "\n",
              "        async function convertToInteractive(key) {\n",
              "          const element = document.querySelector('#df-f1bb767a-0844-4813-9179-ee6c4dde4e46');\n",
              "          const dataTable =\n",
              "            await google.colab.kernel.invokeFunction('convertToInteractive',\n",
              "                                                     [key], {});\n",
              "          if (!dataTable) return;\n",
              "\n",
              "          const docLinkHtml = 'Like what you see? Visit the ' +\n",
              "            '<a target=\"_blank\" href=https://colab.research.google.com/notebooks/data_table.ipynb>data table notebook</a>'\n",
              "            + ' to learn more about interactive tables.';\n",
              "          element.innerHTML = '';\n",
              "          dataTable['output_type'] = 'display_data';\n",
              "          await google.colab.output.renderOutput(dataTable, element);\n",
              "          const docLink = document.createElement('div');\n",
              "          docLink.innerHTML = docLinkHtml;\n",
              "          element.appendChild(docLink);\n",
              "        }\n",
              "      </script>\n",
              "    </div>\n",
              "  </div>\n",
              "  "
            ],
            "text/plain": [
              "                                                 request\n",
              "10137  POST /vulnbank/online/api.php HTTP/1.1\\nHost: ...\n",
              "18739  GET /vulnbank/online/history.php HTTP/1.1\\nAcc...\n",
              "2782   POST /vulnbank/online/api.php HTTP/1.1\\nHost: ...\n",
              "18837  GET /vulnbank/online/history.php HTTP/1.1\\nAcc...\n",
              "16912  GET /vulnbank/online/history.php HTTP/1.1\\nAcc...\n",
              "...                                                  ...\n",
              "8593   POST /vulnbank/online/api.php HTTP/1.1\\nHost: ...\n",
              "21046  GET /vulnbank/online/userinfo.php HTTP/1.1\\nAc...\n",
              "5805   POST /vulnbank/online/api.php HTTP/1.1\\nHost: ...\n",
              "19680  GET /vulnbank/online/transactions.php HTTP/1.0...\n",
              "21686  GET /vulnbank/online/logout.php HTTP/1.1\\nAcce...\n",
              "\n",
              "[15211 rows x 1 columns]"
            ]
          },
          "execution_count": 11,
          "metadata": {},
          "output_type": "execute_result"
        }
      ],
      "source": [
        "X_train = X_train[[x <= 1500 for x in map(len, X_train.request)]]\n",
        "X_train"
      ]
    },
    {
      "cell_type": "code",
      "execution_count": 12,
      "id": "5685925d",
      "metadata": {
        "id": "5685925d"
      },
      "outputs": [],
      "source": [
        "from nltk import ngrams\n",
        "import torchtext\n",
        "\n",
        "from typing import Iterable\n",
        "\n",
        "\n",
        "SOS = '<sos>'\n",
        "EOS = '<eos>'\n",
        "UNK = '<unk>'\n",
        "PAD = '<pad>'\n",
        "\n",
        "NGRAMS_PARAM = 1\n",
        "\n",
        "\n",
        "def tokenize(texts: Iterable[str]):\n",
        "    for text in texts:\n",
        "        yield [''.join(x) for x in ngrams(text, NGRAMS_PARAM)]\n",
        "\n",
        "vocab = torchtext.vocab.build_vocab_from_iterator(\n",
        "    tokenize(x for x in X_train.request), \n",
        "    specials=[SOS, EOS, UNK, PAD],\n",
        "    min_freq=1,\n",
        ")\n",
        "vocab.vocab.set_default_index(vocab[UNK])"
      ]
    },
    {
      "cell_type": "code",
      "execution_count": 13,
      "id": "7842291a",
      "metadata": {
        "colab": {
          "base_uri": "https://localhost:8080/"
        },
        "id": "7842291a",
        "outputId": "aab4233f-3294-4727-e6e7-7173f81ce377"
      },
      "outputs": [
        {
          "name": "stdout",
          "output_type": "stream",
          "text": [
            "Unique tokens in vocabulary: 87\n"
          ]
        }
      ],
      "source": [
        "print(f\"Unique tokens in vocabulary: {len(vocab.vocab)}\")"
      ]
    },
    {
      "cell_type": "code",
      "execution_count": 14,
      "id": "5abb8130",
      "metadata": {
        "id": "5abb8130"
      },
      "outputs": [],
      "source": [
        "from torchtext.data import to_map_style_dataset\n",
        "\n",
        "\n",
        "def tokenize_dataset(df):\n",
        "    for text in df.request:\n",
        "        tokenized = next(tokenize([text]))\n",
        "\n",
        "        yield {\n",
        "            'text': text,\n",
        "            'tokens': [vocab[SOS]] + vocab.lookup_indices(tokenized) + [vocab[EOS]],\n",
        "        }\n",
        "\n",
        "\n",
        "train_token_dataset = to_map_style_dataset(tokenize_dataset(X_train))\n",
        "test_token_dataset = to_map_style_dataset(tokenize_dataset(X_test))\n",
        "val_token_dataset = to_map_style_dataset(tokenize_dataset(X_val))"
      ]
    },
    {
      "cell_type": "code",
      "execution_count": 15,
      "id": "2f1d74c5",
      "metadata": {
        "id": "2f1d74c5"
      },
      "outputs": [],
      "source": [
        "from torch.utils.data import DataLoader\n",
        "\n",
        "\n",
        "def make_batch(batch):\n",
        "    tokens = [x['tokens'] for x in batch]\n",
        "    return torchtext.functional.to_tensor(tokens, padding_value=vocab[PAD]).transpose(1, 0).to(device)\n",
        "\n",
        "\n",
        "BATCH_SIZE = 128\n",
        "\n",
        "\n",
        "train_iterator = DataLoader(train_token_dataset, batch_size=BATCH_SIZE, collate_fn=make_batch, shuffle=True)\n",
        "test_iterator = DataLoader(test_token_dataset, batch_size=BATCH_SIZE, collate_fn=make_batch)\n",
        "val_iterator = DataLoader(val_token_dataset, batch_size=BATCH_SIZE, collate_fn=make_batch)"
      ]
    },
    {
      "cell_type": "code",
      "execution_count": 16,
      "id": "0d4b119e",
      "metadata": {
        "colab": {
          "base_uri": "https://localhost:8080/"
        },
        "id": "0d4b119e",
        "outputId": "c5d5ec3b-b6a4-419c-d2e9-c563aacad373"
      },
      "outputs": [
        {
          "name": "stdout",
          "output_type": "stream",
          "text": [
            "torch.Size([1425, 128])\n"
          ]
        }
      ],
      "source": [
        "for x in train_iterator:\n",
        "    print(x.shape)\n",
        "    break"
      ]
    },
    {
      "cell_type": "markdown",
      "id": "56928264",
      "metadata": {
        "id": "56928264"
      },
      "source": [
        "# Set up model"
      ]
    },
    {
      "cell_type": "code",
      "execution_count": 17,
      "id": "97e99cc9",
      "metadata": {
        "id": "97e99cc9"
      },
      "outputs": [],
      "source": [
        "from rnn_lstm import Encoder, Decoder, Seq2Seq, model_init\n",
        "\n",
        "\n",
        "VOCAB_DIM = len(vocab.vocab)\n",
        "ENC_EMB_DIM = 64\n",
        "DEC_EMB_DIM = 64\n",
        "ENC_HID_DIM = 64\n",
        "DEC_HID_DIM = 64\n",
        "NUM_LAYERS = 2\n",
        "ENC_DROPOUT = 0.2\n",
        "DEC_DROPOUT = 0.2\n",
        "\n",
        "encoder = Encoder(VOCAB_DIM, ENC_EMB_DIM, ENC_HID_DIM, DEC_HID_DIM, NUM_LAYERS, ENC_DROPOUT)\n",
        "decoder = Decoder(VOCAB_DIM, DEC_EMB_DIM, DEC_HID_DIM, NUM_LAYERS, DEC_DROPOUT)\n",
        "\n",
        "model = Seq2Seq(encoder, decoder, device).to(device)\n",
        "model = model.apply(model_init)"
      ]
    },
    {
      "cell_type": "code",
      "execution_count": 18,
      "id": "6e6de552",
      "metadata": {
        "colab": {
          "base_uri": "https://localhost:8080/"
        },
        "id": "6e6de552",
        "outputId": "dc9b7041-87a3-4062-fad4-41ce87eaea47"
      },
      "outputs": [
        {
          "name": "stdout",
          "output_type": "stream",
          "text": [
            "The model has 386,135 trainable parameters\n"
          ]
        }
      ],
      "source": [
        "def count_parameters(model):\n",
        "    return sum(p.numel() for p in model.parameters() if p.requires_grad)\n",
        "\n",
        "print(f'The model has {count_parameters(model):,} trainable parameters')"
      ]
    },
    {
      "cell_type": "code",
      "execution_count": 19,
      "id": "dc95a997",
      "metadata": {
        "colab": {
          "base_uri": "https://localhost:8080/"
        },
        "id": "dc95a997",
        "outputId": "770d6ced-586b-41c7-be55-a2893114fd8a",
        "scrolled": false
      },
      "outputs": [
        {
          "data": {
            "text/plain": [
              "torch.Size([1425, 128, 87])"
            ]
          },
          "execution_count": 19,
          "metadata": {},
          "output_type": "execute_result"
        }
      ],
      "source": [
        "# Check the model\n",
        "\n",
        "model.forward(x, teacher_forcing_ratio=1.0).shape"
      ]
    },
    {
      "cell_type": "markdown",
      "id": "a39bde57",
      "metadata": {
        "id": "a39bde57"
      },
      "source": [
        "# Train model"
      ]
    },
    {
      "cell_type": "code",
      "execution_count": 20,
      "id": "5e94152a",
      "metadata": {
        "colab": {
          "base_uri": "https://localhost:8080/",
          "height": 666
        },
        "id": "5e94152a",
        "outputId": "2a3ce3c0-c707-4e69-b7f5-5ebc84bc7039",
        "scrolled": true
      },
      "outputs": [
        {
          "data": {
            "image/png": "[encoded data removed]",
            "text/plain": [
              "<Figure size 864x576 with 2 Axes>"
            ]
          },
          "metadata": {
            "needs_background": "light"
          },
          "output_type": "display_data"
        },
        {
          "name": "stderr",
          "output_type": "stream",
          "text": [
            "119it [03:31,  1.77s/it]\n"
          ]
        },
        {
          "name": "stdout",
          "output_type": "stream",
          "text": [
            "Evaluate\n"
          ]
        },
        {
          "name": "stderr",
          "output_type": "stream",
          "text": [
            "31it [00:18,  1.70it/s]"
          ]
        },
        {
          "name": "stdout",
          "output_type": "stream",
          "text": [
            "Epoch: 30 | Time: 3m 49s\n",
            "\tTrain Loss: 0.084\n",
            "\t Val. Loss: 0.058\n",
            "Training time: 114m 31s\n",
            "CPU times: user 1h 45min 59s, sys: 8min 31s, total: 1h 54min 30s\n",
            "Wall time: 1h 54min 31s\n"
          ]
        },
        {
          "name": "stderr",
          "output_type": "stream",
          "text": [
            "\n"
          ]
        }
      ],
      "source": [
        "%%time\n",
        "\n",
        "\n",
        "import utils\n",
        "\n",
        "\n",
        "optimizer = torch.optim.Adam(model.parameters())\n",
        "criterion = torch.nn.CrossEntropyLoss(ignore_index=vocab[PAD])\n",
        "EPOCHS = 30\n",
        "\n",
        "\n",
        "utils.run_training(\n",
        "    model=model,\n",
        "    optimizer=optimizer,\n",
        "    criterion=criterion,\n",
        "    epochs=EPOCHS,\n",
        "    train_iterator=train_iterator,\n",
        "    val_iterator=val_iterator,\n",
        "    teacher_forcing_ratio=1.0\n",
        ")\n"
      ]
    },
    {
      "cell_type": "markdown",
      "id": "dde4e0e5",
      "metadata": {
        "id": "dde4e0e5"
      },
      "source": [
        "## Save model"
      ]
    },
    {
      "cell_type": "code",
      "execution_count": null,
      "id": "bd83c631",
      "metadata": {
        "id": "bd83c631"
      },
      "outputs": [],
      "source": [
        "# torch.save(model.state_dict(), f'train_final_model.pt')"
      ]
    },
    {
      "cell_type": "markdown",
      "id": "1b010575",
      "metadata": {
        "id": "1b010575"
      },
      "source": [
        "# Evaluate quality"
      ]
    },
    {
      "cell_type": "markdown",
      "id": "173396c6",
      "metadata": {
        "id": "173396c6"
      },
      "source": [
        "## Load model"
      ]
    },
    {
      "cell_type": "code",
      "execution_count": null,
      "id": "cfc0139a",
      "metadata": {
        "id": "cfc0139a"
      },
      "outputs": [],
      "source": [
        "model.load_state_dict(torch.load('model.pt', map_location=device))"
      ]
    },
    {
      "cell_type": "markdown",
      "id": "341b2d96",
      "metadata": {
        "id": "341b2d96"
      },
      "source": [
        "## Run evaluation"
      ]
    },
    {
      "cell_type": "code",
      "execution_count": 21,
      "id": "8lHFGVasUOWG",
      "metadata": {
        "id": "8lHFGVasUOWG"
      },
      "outputs": [],
      "source": [
        "anomaly_token_dataset = to_map_style_dataset(tokenize_dataset(anomaly_df))\n",
        "anomaly_iterator = DataLoader(anomaly_token_dataset, batch_size=BATCH_SIZE, collate_fn=make_batch)"
      ]
    },
    {
      "cell_type": "code",
      "execution_count": 22,
      "id": "CQgJZlPGUWCA",
      "metadata": {
        "id": "CQgJZlPGUWCA"
      },
      "outputs": [],
      "source": [
        "import tqdm\n",
        "\n",
        "\n",
        "def calc_loss(loss_tensor, target):\n",
        "    # loss_tensor = [batch size, request len]\n",
        "    # target = [batch size, request len]\n",
        "        \n",
        "    loss_by_example = []\n",
        "    \n",
        "    for i in range(target.shape[0]):\n",
        "        seq_list = target[i].tolist()\n",
        "        \n",
        "        padd_ix = len(seq_list)\n",
        "\n",
        "        if vocab[PAD] in seq_list:\n",
        "            padd_ix = seq_list.index(vocab[PAD])\n",
        "\n",
        "        loss_by_example.append(\n",
        "            np.mean(loss_tensor[i, :padd_ix].detach().cpu().numpy())\n",
        "        )\n",
        "    \n",
        "    return loss_by_example\n",
        "\n",
        "\n",
        "def get_loss(data_iterator):\n",
        "    model.eval()\n",
        "    total_loss = []\n",
        "\n",
        "    with torch.no_grad():\n",
        "        for _, batch in tqdm.tqdm(enumerate(data_iterator)):\n",
        "            # batch = [request len, batch size]\n",
        "            \n",
        "            output = model.forward(batch, teacher_forcing_ratio=1.0)\n",
        "            # output = [request len, batch size, output dim]\n",
        "\n",
        "            output = output[1:].permute(1, 2, 0)\n",
        "            target = batch[1:].permute(1, 0)\n",
        "\n",
        "            # target = [batch size, request len]\n",
        "            # output = [batch size, output dim, request len]\n",
        "\n",
        "            loss = torch.nn.CrossEntropyLoss(ignore_index=vocab[PAD], reduction='none')(output, target)\n",
        "            # loss = [batch size, request len]\n",
        "            \n",
        "            total_loss.extend(calc_loss(loss, target))\n",
        "            \n",
        "\n",
        "    return total_loss"
      ]
    },
    {
      "cell_type": "code",
      "execution_count": 23,
      "id": "q0b9aQEeVHmP",
      "metadata": {
        "colab": {
          "base_uri": "https://localhost:8080/"
        },
        "id": "q0b9aQEeVHmP",
        "outputId": "eb4906a6-7b70-4965-f78b-35e890afb9b0",
        "scrolled": true
      },
      "outputs": [
        {
          "name": "stderr",
          "output_type": "stream",
          "text": [
            "31it [00:18,  1.71it/s]\n"
          ]
        }
      ],
      "source": [
        "val_losses = get_loss(val_iterator)"
      ]
    },
    {
      "cell_type": "code",
      "execution_count": 24,
      "id": "C0uwg7I-VSsm",
      "metadata": {
        "colab": {
          "base_uri": "https://localhost:8080/"
        },
        "id": "C0uwg7I-VSsm",
        "outputId": "519b4a2e-7250-4ac7-c054-fe2c4998b3ae"
      },
      "outputs": [
        {
          "name": "stdout",
          "output_type": "stream",
          "text": [
            "Threshold: 0.6621706411242485\n",
            "Mean val loss: 0.06590162962675095\n",
            "Std val loss: 0.09937816858291626\n"
          ]
        }
      ],
      "source": [
        "threshold = np.mean(val_losses) + 6 * np.std(val_losses)\n",
        "\n",
        "print(f'Threshold: {threshold}')\n",
        "print(f'Mean val loss: {np.mean(val_losses)}')\n",
        "print(f'Std val loss: {np.std(val_losses)}')"
      ]
    },
    {
      "cell_type": "code",
      "execution_count": 25,
      "id": "NpJ-uwb-UWIw",
      "metadata": {
        "colab": {
          "base_uri": "https://localhost:8080/"
        },
        "id": "NpJ-uwb-UWIw",
        "outputId": "45efab3a-397b-4691-98fb-805afb3c09d4"
      },
      "outputs": [
        {
          "name": "stderr",
          "output_type": "stream",
          "text": [
            "18it [00:10,  1.67it/s]\n",
            "9it [00:02,  3.17it/s]\n"
          ]
        }
      ],
      "source": [
        "test_losses = get_loss(test_iterator)\n",
        "anomaly_losses = get_loss(anomaly_iterator)"
      ]
    },
    {
      "cell_type": "code",
      "execution_count": 26,
      "id": "pcgF2WPUUnTy",
      "metadata": {
        "colab": {
          "base_uri": "https://localhost:8080/",
          "height": 295
        },
        "id": "pcgF2WPUUnTy",
        "outputId": "dcc77bb5-cefa-4ab7-e924-e6bab4f43fa7"
      },
      "outputs": [
        {
          "data": {
            "image/png": "[encoded data removed]",
            "text/plain": [
              "<Figure size 432x288 with 1 Axes>"
            ]
          },
          "metadata": {
            "needs_background": "light"
          },
          "output_type": "display_data"
        }
      ],
      "source": [
        "from sklearn.metrics import roc_curve, auc\n",
        "\n",
        "y_true = [0 for _ in test_losses] + [1 for _ in anomaly_losses]\n",
        "loss_pred = test_losses + anomaly_losses\n",
        "\n",
        "\n",
        "fpr, tpr, _ = roc_curve(y_true, loss_pred)\n",
        "roc_auc = auc(fpr, tpr)\n",
        "\n",
        "plt.figure()\n",
        "plt.plot(fpr, tpr, label='ROC curve (area = %0.4f)' % roc_auc)\n",
        "plt.plot([0, 1], [0, 1], color='navy', linestyle='--')\n",
        "plt.xlim([-0.05, 1.0])\n",
        "plt.ylim([0.0, 1.05])\n",
        "plt.xlabel('False Positive Rate')\n",
        "plt.ylabel('True Positive Rate')\n",
        "plt.title('ROC curve')\n",
        "plt.legend(loc=\"lower right\")\n",
        "plt.show()"
      ]
    },
    {
      "cell_type": "code",
      "execution_count": 27,
      "id": "yPb3DVU6UnWE",
      "metadata": {
        "colab": {
          "base_uri": "https://localhost:8080/"
        },
        "id": "yPb3DVU6UnWE",
        "outputId": "d184cdfd-7bfa-4733-adb4-27896baf2bdb"
      },
      "outputs": [
        {
          "data": {
            "text/plain": [
              "0.9999092566503687"
            ]
          },
          "execution_count": 27,
          "metadata": {},
          "output_type": "execute_result"
        }
      ],
      "source": [
        "roc_auc"
      ]
    },
    {
      "cell_type": "code",
      "execution_count": null,
      "id": "6641b97c",
      "metadata": {
        "id": "6641b97c"
      },
      "outputs": [],
      "source": []
    }
  ],
  "metadata": {
    "accelerator": "GPU",
    "colab": {
      "name": "rnn_paper.ipynb",
      "provenance": []
    },
    "gpuClass": "standard",
    "kernelspec": {
      "display_name": "Python 3 (ipykernel)",
      "language": "python",
      "name": "python3"
    },
    "language_info": {
      "codemirror_mode": {
        "name": "ipython",
        "version": 3
      },
      "file_extension": ".py",
      "mimetype": "text/x-python",
      "name": "python",
      "nbconvert_exporter": "python",
      "pygments_lexer": "ipython3",
      "version": "3.9.7"
    },
    "vscode": {
      "interpreter": {
        "hash": "7e850a8c71078fcdaa0ea5d249c11f5aaaecf85e95a7de10a1020739d522a042"
      }
    }
  },
  "nbformat": 4,
  "nbformat_minor": 5
}
